{
 "cells": [
  {
   "cell_type": "code",
   "execution_count": 53,
   "metadata": {},
   "outputs": [],
   "source": [
    "from datetime import datetime, tzinfo, timedelta\n",
    "import pytz"
   ]
  },
  {
   "cell_type": "code",
   "execution_count": 13,
   "metadata": {},
   "outputs": [],
   "source": [
    "from pytz import timezone"
   ]
  },
  {
   "cell_type": "code",
   "execution_count": null,
   "metadata": {},
   "outputs": [],
   "source": [
    "pytz.common_timezones"
   ]
  },
  {
   "cell_type": "code",
   "execution_count": 22,
   "metadata": {},
   "outputs": [],
   "source": [
    "ist = timezone('Asia/Kolkata')"
   ]
  },
  {
   "cell_type": "code",
   "execution_count": 23,
   "metadata": {},
   "outputs": [
    {
     "name": "stdout",
     "output_type": "stream",
     "text": [
      "<bound method DstTzInfo.dst of <DstTzInfo 'Asia/Kolkata' LMT+5:53:00 STD>>\n",
      "<bound method DstTzInfo.fromutc of <DstTzInfo 'Asia/Kolkata' LMT+5:53:00 STD>>\n",
      "<bound method DstTzInfo.normalize of <DstTzInfo 'Asia/Kolkata' LMT+5:53:00 STD>>\n",
      "<bound method DstTzInfo.utcoffset of <DstTzInfo 'Asia/Kolkata' LMT+5:53:00 STD>>\n",
      "Asia/Kolkata\n"
     ]
    }
   ],
   "source": [
    "print (ist.dst)\n",
    "print (ist.fromutc)\n",
    "print (ist.normalize)\n",
    "print (ist.utcoffset)\n",
    "print (ist.zone)\n"
   ]
  },
  {
   "cell_type": "code",
   "execution_count": 19,
   "metadata": {},
   "outputs": [],
   "source": [
    "ty =timezone('asia/tokyo')"
   ]
  },
  {
   "cell_type": "code",
   "execution_count": 20,
   "metadata": {},
   "outputs": [
    {
     "name": "stdout",
     "output_type": "stream",
     "text": [
      "<bound method DstTzInfo.dst of <DstTzInfo 'Asia/Tokyo' LMT+9:19:00 STD>>\n",
      "<bound method DstTzInfo.fromutc of <DstTzInfo 'Asia/Tokyo' LMT+9:19:00 STD>>\n",
      "<bound method DstTzInfo.normalize of <DstTzInfo 'Asia/Tokyo' LMT+9:19:00 STD>>\n",
      "<bound method DstTzInfo.utcoffset of <DstTzInfo 'Asia/Tokyo' LMT+9:19:00 STD>>\n",
      "Asia/Tokyo\n"
     ]
    }
   ],
   "source": [
    "print (ty.dst)\n",
    "print (ty.fromutc)\n",
    "print (ty.normalize)\n",
    "print (ty.utcoffset)\n",
    "print (ty.zone)"
   ]
  },
  {
   "cell_type": "code",
   "execution_count": 33,
   "metadata": {},
   "outputs": [
    {
     "data": {
      "text/plain": [
       "datetime.datetime(2021, 11, 3, 10, 25, 33, 527646, tzinfo=<DstTzInfo 'Asia/Tokyo' JST+9:00:00 STD>)"
      ]
     },
     "execution_count": 33,
     "metadata": {},
     "output_type": "execute_result"
    }
   ],
   "source": [
    "datetime.now((pytz.timezone('Asia/Tokyo')))"
   ]
  },
  {
   "cell_type": "code",
   "execution_count": 31,
   "metadata": {},
   "outputs": [
    {
     "data": {
      "text/plain": [
       "<DstTzInfo 'Asia/Tokyo' LMT+9:19:00 STD>"
      ]
     },
     "execution_count": 31,
     "metadata": {},
     "output_type": "execute_result"
    }
   ],
   "source": [
    "pytz.timezone('Asia/Tokyo')"
   ]
  },
  {
   "cell_type": "code",
   "execution_count": 86,
   "metadata": {},
   "outputs": [
    {
     "name": "stdout",
     "output_type": "stream",
     "text": [
      "UTC\n"
     ]
    }
   ],
   "source": [
    "print(datetime.datetime.now(datetime.timezone.utc).tzinfo)"
   ]
  },
  {
   "cell_type": "code",
   "execution_count": 90,
   "metadata": {},
   "outputs": [
    {
     "name": "stdout",
     "output_type": "stream",
     "text": [
      "Asia/Tokyo\n"
     ]
    }
   ],
   "source": [
    "tt = pytz.timezone('Asia/Tokyo')\n",
    "print (tt)"
   ]
  },
  {
   "cell_type": "code",
   "execution_count": 37,
   "metadata": {},
   "outputs": [
    {
     "data": {
      "text/plain": [
       "<DstTzInfo 'Asia/Kolkata' LMT+5:53:00 STD>"
      ]
     },
     "execution_count": 37,
     "metadata": {},
     "output_type": "execute_result"
    }
   ],
   "source": [
    "it = pytz.timezone('Asia/Kolkata')"
   ]
  },
  {
   "cell_type": "code",
   "execution_count": 43,
   "metadata": {},
   "outputs": [],
   "source": [
    "dttk = datetime.now(pytz.timezone('Asia/Tokyo'))"
   ]
  },
  {
   "cell_type": "code",
   "execution_count": 91,
   "metadata": {},
   "outputs": [
    {
     "ename": "AttributeError",
     "evalue": "module 'datetime' has no attribute 'now'",
     "output_type": "error",
     "traceback": [
      "\u001b[1;31m---------------------------------------------------------------------------\u001b[0m",
      "\u001b[1;31mAttributeError\u001b[0m                            Traceback (most recent call last)",
      "\u001b[1;32m~\\AppData\\Local\\Temp/ipykernel_9420/1007826149.py\u001b[0m in \u001b[0;36m<module>\u001b[1;34m\u001b[0m\n\u001b[1;32m----> 1\u001b[1;33m \u001b[0mdtist\u001b[0m \u001b[1;33m=\u001b[0m \u001b[0mdatetime\u001b[0m\u001b[1;33m.\u001b[0m\u001b[0mnow\u001b[0m\u001b[1;33m(\u001b[0m\u001b[0mpytz\u001b[0m\u001b[1;33m.\u001b[0m\u001b[0mtimezone\u001b[0m\u001b[1;33m(\u001b[0m\u001b[1;34m'Asia/Kolkata'\u001b[0m\u001b[1;33m)\u001b[0m\u001b[1;33m)\u001b[0m\u001b[1;33m\u001b[0m\u001b[1;33m\u001b[0m\u001b[0m\n\u001b[0m",
      "\u001b[1;31mAttributeError\u001b[0m: module 'datetime' has no attribute 'now'"
     ]
    }
   ],
   "source": [
    "dtist = datetime.now(pytz.timezone('Asia/Kolkata'))"
   ]
  },
  {
   "cell_type": "code",
   "execution_count": 47,
   "metadata": {},
   "outputs": [],
   "source": [
    "deltat = dttk - dtist"
   ]
  },
  {
   "cell_type": "code",
   "execution_count": 59,
   "metadata": {},
   "outputs": [],
   "source": [
    "from datetime import datetime, tzinfo, timedelta\n",
    "import pytz\n",
    "import time\n",
    "import datetime"
   ]
  },
  {
   "cell_type": "code",
   "execution_count": 92,
   "metadata": {},
   "outputs": [
    {
     "name": "stdout",
     "output_type": "stream",
     "text": [
      "2018-11-15 18:30:00+09:00\n"
     ]
    }
   ],
   "source": [
    "jst = pytz.timezone('Asia/Tokyo')\n",
    "naive_dt = datetime.datetime(year=2018, month=11, day=15, hour=18, minute=30)\n",
    "aware_dt = jst.localize(naive_dt)\n",
    "print(aware_dt)"
   ]
  },
  {
   "cell_type": "code",
   "execution_count": 130,
   "metadata": {},
   "outputs": [
    {
     "name": "stdout",
     "output_type": "stream",
     "text": [
      "2021/11/03 08:30:00.000000\n",
      "2021/11/03 12:00:00.000000\n",
      "30\n",
      "0\n",
      "30\n"
     ]
    }
   ],
   "source": [
    "\n",
    "#now = datetime.datetime.now(tz=pytz.utc)\n",
    "now = datetime.datetime(2021, 11, 3, 13, 33, 00, 0000)\n",
    "ist = pytz.timezone('Asia/Kolkata')\n",
    "jst = pytz.timezone('Asia/Tokyo')\n",
    "\n",
    "it = now.astimezone(ist)\n",
    "jt = now.astimezone(jst)\n",
    "\n",
    "print(it)\n",
    "print(jt)\n",
    "print(it.minute)\n",
    "print(jt.minute)\n",
    "print(it.minute-jt.minute)\n",
    "\n"
   ]
  },
  {
   "cell_type": "code",
   "execution_count": 158,
   "metadata": {},
   "outputs": [
    {
     "name": "stdout",
     "output_type": "stream",
     "text": [
      "JST 2021-11-03 12:20:00\n",
      "Traget time 2021-11-03 12:00:00\n",
      "IST 2021-11-03 08:30:00+05:30\n",
      "Wed 08:30\n",
      "2021-11-03 08:30:00+05:30\n"
     ]
    }
   ],
   "source": [
    "\n",
    "# now = datetime.datetime(2021, 11, 3, 12, 00, 00, 0000)\n",
    "\n",
    "ist = pytz.timezone('Asia/Kolkata')\n",
    "jst = pytz.timezone('Asia/Tokyo')\n",
    "\n",
    "# it = now.astimezone(ist)\n",
    "#timejt = datetime.datetime.now()\n",
    "timejt = datetime.datetime(2021, 11, 3, 12, 20, 00, 0000)\n",
    "print ('JST', timejt)\n",
    "thistime = datetime.datetime(timejt.year, timejt.month, timejt.day, timejt.hour, 00, 00, 0000)\n",
    "targettime = thistime.astimezone(ist)\n",
    "print ('Traget time', thistime)\n",
    "print ('IST', thistime.astimezone(ist))\n",
    "print (targettime.strftime(\"%a %H:%M\"))\n",
    "print (thistime.astimezone(ist))"
   ]
  },
  {
   "cell_type": "code",
   "execution_count": 140,
   "metadata": {},
   "outputs": [
    {
     "data": {
      "text/plain": [
       "datetime.datetime(2021, 11, 3, 12, 8, 46, 256695)"
      ]
     },
     "execution_count": 140,
     "metadata": {},
     "output_type": "execute_result"
    }
   ],
   "source": [
    "datetime.datetime.now()"
   ]
  },
  {
   "cell_type": "code",
   "execution_count": null,
   "metadata": {},
   "outputs": [],
   "source": []
  }
 ],
 "metadata": {
  "interpreter": {
   "hash": "5c565b6c0f6dd144f5f46837743e8a623f3f6d18c9c353b2cc59401224426e28"
  },
  "kernelspec": {
   "display_name": "Python 3.9.5 64-bit (system)",
   "name": "python3"
  },
  "language_info": {
   "codemirror_mode": {
    "name": "ipython",
    "version": 3
   },
   "file_extension": ".py",
   "mimetype": "text/x-python",
   "name": "python",
   "nbconvert_exporter": "python",
   "pygments_lexer": "ipython3",
   "version": "3.9.5"
  },
  "orig_nbformat": 4
 },
 "nbformat": 4,
 "nbformat_minor": 2
}
